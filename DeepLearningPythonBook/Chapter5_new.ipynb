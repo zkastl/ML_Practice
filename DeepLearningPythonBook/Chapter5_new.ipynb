{
 "cells": [
  {
   "cell_type": "code",
   "execution_count": 19,
   "metadata": {},
   "outputs": [
    {
     "name": "stderr",
     "output_type": "stream",
     "text": [
      "/tmp/ipykernel_3536/3103964564.py:4: DeprecationWarning: Starting with ImageIO v3 the behavior of this function will switch to that of iio.v3.imread. To keep the current behavior (and make this warning disappear) use `import imageio.v2 as imageio` or call `imageio.v2.imread` directly.\n",
      "  face = imageio.imread('face.png')\n"
     ]
    },
    {
     "name": "stdout",
     "output_type": "stream",
     "text": [
      "[[[60.5 56.  65.5]\n",
      "  [69.  64.5 74. ]\n",
      "  [76.5 72.  82.5]\n",
      "  ...\n",
      "  [59.5 63.  37. ]\n",
      "  [65.5 68.  41. ]\n",
      "  [69.5 72.  45. ]]\n",
      "\n",
      " [[44.5 41.  50. ]\n",
      "  [55.  51.5 60.5]\n",
      "  [65.  61.  71.5]\n",
      "  ...\n",
      "  [59.  62.5 35.5]\n",
      "  [67.  70.5 43.5]\n",
      "  [73.  76.5 49.5]]\n",
      "\n",
      " [[36.5 33.  42. ]\n",
      "  [47.  43.5 52.5]\n",
      "  [57.5 54.  63. ]\n",
      "  ...\n",
      "  [58.5 63.  35.5]\n",
      "  [66.5 71.  43.5]\n",
      "  [72.  76.5 49. ]]\n",
      "\n",
      " ...\n",
      "\n",
      " [[43.5 53.  38. ]\n",
      "  [47.  55.  40.5]\n",
      "  [53.5 62.  46. ]\n",
      "  ...\n",
      "  [60.  79.  48.5]\n",
      "  [59.5 78.5 48. ]\n",
      "  [59.5 79.  47.5]]\n",
      "\n",
      " [[42.5 50.5 36. ]\n",
      "  [47.5 55.5 41. ]\n",
      "  [56.  63.5 48. ]\n",
      "  ...\n",
      "  [60.5 78.5 48. ]\n",
      "  [60.  78.  47. ]\n",
      "  [60.  78.  47. ]]\n",
      "\n",
      " [[42.5 50.5 37. ]\n",
      "  [48.5 56.5 42. ]\n",
      "  [55.5 63.  48.5]\n",
      "  ...\n",
      "  [60.  78.  47.5]\n",
      "  [59.5 77.5 46.5]\n",
      "  [59.  77.  46. ]]]\n",
      "<class 'numpy.ndarray'>\n",
      "[(768, 1024, 3), dtype('uint8')]\n",
      "[(768, 1024, 3), dtype('float64')]\n"
     ]
    },
    {
     "ename": "TypeError",
     "evalue": "Cannot handle this data type: (1, 1, 3), <f8",
     "output_type": "error",
     "traceback": [
      "\u001b[0;31m---------------------------------------------------------------------------\u001b[0m",
      "\u001b[0;31mKeyError\u001b[0m                                  Traceback (most recent call last)",
      "File \u001b[0;32m~/miniconda3/envs/tf/lib/python3.9/site-packages/PIL/Image.py:3089\u001b[0m, in \u001b[0;36mfromarray\u001b[0;34m(obj, mode)\u001b[0m\n\u001b[1;32m   3088\u001b[0m \u001b[39mtry\u001b[39;00m:\n\u001b[0;32m-> 3089\u001b[0m     mode, rawmode \u001b[39m=\u001b[39m _fromarray_typemap[typekey]\n\u001b[1;32m   3090\u001b[0m \u001b[39mexcept\u001b[39;00m \u001b[39mKeyError\u001b[39;00m \u001b[39mas\u001b[39;00m e:\n",
      "\u001b[0;31mKeyError\u001b[0m: ((1, 1, 3), '<f8')",
      "\nThe above exception was the direct cause of the following exception:\n",
      "\u001b[0;31mTypeError\u001b[0m                                 Traceback (most recent call last)",
      "Cell \u001b[0;32mIn[19], line 13\u001b[0m\n\u001b[1;32m     11\u001b[0m \u001b[39mprint\u001b[39m([face\u001b[39m.\u001b[39mshape, face\u001b[39m.\u001b[39mdtype])\n\u001b[1;32m     12\u001b[0m \u001b[39mprint\u001b[39m([face2\u001b[39m.\u001b[39mshape, face2\u001b[39m.\u001b[39mdtype])\n\u001b[0;32m---> 13\u001b[0m imageio\u001b[39m.\u001b[39;49mimsave(\u001b[39m'\u001b[39;49m\u001b[39mface2.png\u001b[39;49m\u001b[39m'\u001b[39;49m, face2)\n",
      "File \u001b[0;32m~/miniconda3/envs/tf/lib/python3.9/site-packages/imageio/v2.py:397\u001b[0m, in \u001b[0;36mimwrite\u001b[0;34m(uri, im, format, **kwargs)\u001b[0m\n\u001b[1;32m    395\u001b[0m imopen_args[\u001b[39m\"\u001b[39m\u001b[39mlegacy_mode\u001b[39m\u001b[39m\"\u001b[39m] \u001b[39m=\u001b[39m \u001b[39mTrue\u001b[39;00m\n\u001b[1;32m    396\u001b[0m \u001b[39mwith\u001b[39;00m imopen(uri, \u001b[39m\"\u001b[39m\u001b[39mwi\u001b[39m\u001b[39m\"\u001b[39m, \u001b[39m*\u001b[39m\u001b[39m*\u001b[39mimopen_args) \u001b[39mas\u001b[39;00m file:\n\u001b[0;32m--> 397\u001b[0m     \u001b[39mreturn\u001b[39;00m file\u001b[39m.\u001b[39;49mwrite(im, \u001b[39m*\u001b[39;49m\u001b[39m*\u001b[39;49mkwargs)\n",
      "File \u001b[0;32m~/miniconda3/envs/tf/lib/python3.9/site-packages/imageio/plugins/pillow.py:416\u001b[0m, in \u001b[0;36mPillowPlugin.write\u001b[0;34m(self, ndimage, mode, format, is_batch, **kwargs)\u001b[0m\n\u001b[1;32m    413\u001b[0m     ndimage \u001b[39m=\u001b[39m ndimage[\u001b[39mNone\u001b[39;00m, \u001b[39m.\u001b[39m\u001b[39m.\u001b[39m\u001b[39m.\u001b[39m]\n\u001b[1;32m    415\u001b[0m \u001b[39mfor\u001b[39;00m frame \u001b[39min\u001b[39;00m ndimage:\n\u001b[0;32m--> 416\u001b[0m     pil_frame \u001b[39m=\u001b[39m Image\u001b[39m.\u001b[39;49mfromarray(frame, mode\u001b[39m=\u001b[39;49mmode)\n\u001b[1;32m    417\u001b[0m     \u001b[39mif\u001b[39;00m \u001b[39m\"\u001b[39m\u001b[39mbits\u001b[39m\u001b[39m\"\u001b[39m \u001b[39min\u001b[39;00m kwargs:\n\u001b[1;32m    418\u001b[0m         pil_frame \u001b[39m=\u001b[39m pil_frame\u001b[39m.\u001b[39mquantize(colors\u001b[39m=\u001b[39m\u001b[39m2\u001b[39m \u001b[39m*\u001b[39m\u001b[39m*\u001b[39m kwargs[\u001b[39m\"\u001b[39m\u001b[39mbits\u001b[39m\u001b[39m\"\u001b[39m])\n",
      "File \u001b[0;32m~/miniconda3/envs/tf/lib/python3.9/site-packages/PIL/Image.py:3092\u001b[0m, in \u001b[0;36mfromarray\u001b[0;34m(obj, mode)\u001b[0m\n\u001b[1;32m   3090\u001b[0m     \u001b[39mexcept\u001b[39;00m \u001b[39mKeyError\u001b[39;00m \u001b[39mas\u001b[39;00m e:\n\u001b[1;32m   3091\u001b[0m         msg \u001b[39m=\u001b[39m \u001b[39m\"\u001b[39m\u001b[39mCannot handle this data type: \u001b[39m\u001b[39m%s\u001b[39;00m\u001b[39m, \u001b[39m\u001b[39m%s\u001b[39;00m\u001b[39m\"\u001b[39m \u001b[39m%\u001b[39m typekey\n\u001b[0;32m-> 3092\u001b[0m         \u001b[39mraise\u001b[39;00m \u001b[39mTypeError\u001b[39;00m(msg) \u001b[39mfrom\u001b[39;00m \u001b[39me\u001b[39;00m\n\u001b[1;32m   3093\u001b[0m \u001b[39melse\u001b[39;00m:\n\u001b[1;32m   3094\u001b[0m     rawmode \u001b[39m=\u001b[39m mode\n",
      "\u001b[0;31mTypeError\u001b[0m: Cannot handle this data type: (1, 1, 3), <f8"
     ]
    }
   ],
   "source": [
    "import numpy as np\n",
    "import imageio\n",
    "\n",
    "face = imageio.imread('face.png')\n",
    "zero = lambda t: t + 1\n",
    "vfunc = np.vectorize(zero)\n",
    "face2 = vfunc(face)\n",
    "\n",
    "print(face2)\n",
    "print(type(face))\n",
    "print([face.shape, face.dtype])\n",
    "print([face2.shape, face2.dtype])\n",
    "imageio.imsave('face2.png', face2)"
   ]
  }
 ],
 "metadata": {
  "kernelspec": {
   "display_name": "tf",
   "language": "python",
   "name": "python3"
  },
  "language_info": {
   "codemirror_mode": {
    "name": "ipython",
    "version": 3
   },
   "file_extension": ".py",
   "mimetype": "text/x-python",
   "name": "python",
   "nbconvert_exporter": "python",
   "pygments_lexer": "ipython3",
   "version": "3.9.16"
  },
  "orig_nbformat": 4
 },
 "nbformat": 4,
 "nbformat_minor": 2
}
