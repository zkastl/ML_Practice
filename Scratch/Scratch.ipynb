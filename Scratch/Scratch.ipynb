{
 "cells": [
  {
   "attachments": {},
   "cell_type": "markdown",
   "metadata": {},
   "source": [
    "# Imports"
   ]
  },
  {
   "attachments": {},
   "cell_type": "markdown",
   "metadata": {},
   "source": [
    "## Python Standard Library"
   ]
  },
  {
   "cell_type": "code",
   "execution_count": 2,
   "metadata": {},
   "outputs": [],
   "source": [
    "import math"
   ]
  },
  {
   "attachments": {},
   "cell_type": "markdown",
   "metadata": {},
   "source": [
    "## Extra packages"
   ]
  },
  {
   "cell_type": "code",
   "execution_count": 3,
   "metadata": {},
   "outputs": [],
   "source": [
    "import matplotlib.pyplot as plt\n",
    "import numpy as np"
   ]
  },
  {
   "attachments": {},
   "cell_type": "markdown",
   "metadata": {},
   "source": [
    "# Utility Functions"
   ]
  },
  {
   "cell_type": "code",
   "execution_count": 4,
   "metadata": {},
   "outputs": [],
   "source": [
    "class Utility:\n",
    "    def Five():\n",
    "        return 5\n",
    "    \n",
    "    def sigmoid(x):\n",
    "        return 1. / (1. + math.pow(math.e, (-1 * x)))\n",
    "    \n",
    "    def relu(x):\n",
    "        return (x + math.abs(x)) / 2\n",
    "\n",
    "class Node:\n",
    "    pass\n",
    "\n",
    "class Model:\n",
    "    pass\n",
    "\n",
    "class Layer:\n",
    "    pass"
   ]
  },
  {
   "cell_type": "code",
   "execution_count": 11,
   "metadata": {},
   "outputs": [
    {
     "ename": "TypeError",
     "evalue": "'float' object cannot be interpreted as an integer",
     "output_type": "error",
     "traceback": [
      "\u001b[1;31m---------------------------------------------------------------------------\u001b[0m",
      "\u001b[1;31mTypeError\u001b[0m                                 Traceback (most recent call last)",
      "Cell \u001b[1;32mIn[11], line 4\u001b[0m\n\u001b[0;32m      2\u001b[0m x_vals \u001b[39m=\u001b[39m []\n\u001b[0;32m      3\u001b[0m y_vals \u001b[39m=\u001b[39m []\n\u001b[1;32m----> 4\u001b[0m \u001b[39mfor\u001b[39;00m x \u001b[39min\u001b[39;00m \u001b[39mrange\u001b[39;49m(\u001b[39m-\u001b[39;49m\u001b[39m5\u001b[39;49m, \u001b[39m5\u001b[39;49m, \u001b[39m0.1\u001b[39;49m):\n\u001b[0;32m      5\u001b[0m     x_vals\u001b[39m.\u001b[39mappend(x)\n\u001b[0;32m      6\u001b[0m     y_vals\u001b[39m.\u001b[39mappend(Utility\u001b[39m.\u001b[39msigmoid(x))\n",
      "\u001b[1;31mTypeError\u001b[0m: 'float' object cannot be interpreted as an integer"
     ]
    }
   ],
   "source": [
    "# plot the sigmoid and relu functions from -10 to 10\n",
    "x_vals = []\n",
    "y_vals = []\n",
    "for x in range(-5, 5, 1):\n",
    "    x_vals.append(x)\n",
    "    y_vals.append(Utility.sigmoid(x))\n",
    "plt.plot(x_vals, y_vals)\n",
    "plt.ylabel('some numbers')\n",
    "plt.show()"
   ]
  }
 ],
 "metadata": {
  "kernelspec": {
   "display_name": "ML_Practice",
   "language": "python",
   "name": "python3"
  },
  "language_info": {
   "codemirror_mode": {
    "name": "ipython",
    "version": 3
   },
   "file_extension": ".py",
   "mimetype": "text/x-python",
   "name": "python",
   "nbconvert_exporter": "python",
   "pygments_lexer": "ipython3",
   "version": "3.11.3"
  },
  "orig_nbformat": 4
 },
 "nbformat": 4,
 "nbformat_minor": 2
}
