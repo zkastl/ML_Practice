{
 "cells": [
  {
   "attachments": {},
   "cell_type": "markdown",
   "metadata": {},
   "source": [
    "# 5 - Deep Learning for Computer Vision"
   ]
  },
  {
   "attachments": {},
   "cell_type": "markdown",
   "metadata": {},
   "source": [
    "## 5.1 - Introduction to Covnets (Convolutional Neural Networks)"
   ]
  },
  {
   "cell_type": "code",
   "execution_count": null,
   "metadata": {},
   "outputs": [],
   "source": [
    "# Listing 5.1 - Instantiating a Small Convnet\n",
    "\n",
    "from keras import layers\n",
    "from keras import models\n",
    "\n",
    "model = models.Sequential()\n",
    "model.add(layers.Conv2D(32, (3,3), activation='relu', input_shape=(28,28,1)))\n",
    "model.add(layers.MaxPooling2D((2,2)))\n",
    "model.add(layers.Conv2D(64, (3,3), activation='relu'))\n",
    "model.add(layers.MaxPooling2D((2,2)))\n",
    "model.add(layers.Conv2D(64, (3,3), activation='relu'))\n",
    "\n",
    "print(model.summary())"
   ]
  },
  {
   "cell_type": "code",
   "execution_count": null,
   "metadata": {},
   "outputs": [],
   "source": [
    "# Listing 5.2 - Adding a Classifier on Top of the Covnet\n",
    "\n",
    "model.add(layers.Flatten())\n",
    "model.add(layers.Dense(64, activation='relu'))\n",
    "model.add(layers.Dense(10, activation='softmax'))\n",
    "\n",
    "print(model.summary())"
   ]
  },
  {
   "cell_type": "code",
   "execution_count": null,
   "metadata": {},
   "outputs": [],
   "source": [
    "# Listing 5.3 - Training the Covnet on MNIST Images\n",
    "\n",
    "from keras.datasets import mnist\n",
    "from keras.utils import to_categorical\n",
    "\n",
    "(train_images, train_labels), (test_images, test_labels) = mnist.load_data()\n",
    "train_images = train_images.reshape((60000, 28, 28, 1))\n",
    "train_images = train_images.astype('float32') / 255\n",
    "\n",
    "test_images = test_images.reshape((10000, 28, 28, 1))\n",
    "test_images = test_images.astype('float32') / 255\n",
    "\n",
    "train_labels = to_categorical(train_labels)\n",
    "test_labels = to_categorical(test_labels)\n",
    "\n",
    "model.compile(optimizer='rmsprop', loss='categorical_crossentropy', metrics=['accuracy'])\n",
    "model.fit(train_images, train_labels, epochs=5, batch_size=64)\n",
    "\n",
    "test_loss, test_acc = model.evaluate(test_images, test_labels)\n",
    "print(test_acc)"
   ]
  },
  {
   "attachments": {},
   "cell_type": "markdown",
   "metadata": {},
   "source": [
    "## 5.2 - Training a Covnet from Scratch on a Small Dataset"
   ]
  },
  {
   "attachments": {},
   "cell_type": "markdown",
   "metadata": {},
   "source": [
    "### 5.2.2 - Downloading the Data"
   ]
  },
  {
   "cell_type": "code",
   "execution_count": 2,
   "metadata": {},
   "outputs": [],
   "source": [
    "import os, shutil\n",
    "\n",
    "original_dataset_dir = '../dl/original'\n",
    "base_dir = '../dl/cats_dogs_small'\n",
    "os.mkdir(base_dir)\n",
    "\n",
    "train_dir = os.path.join(base_dir, 'train')\n",
    "os.mkdir(train_dir)\n",
    "\n",
    "validation_dir = os.path.join(base_dir, 'validation')\n",
    "os.mkdir(validation_dir)\n",
    "\n",
    "test_dir = os.path.join(base_dir, 'test')\n",
    "os.mkdir(test_dir)\n",
    "\n",
    "train_cats_dir = os.path.join(train_dir, 'cats')\n",
    "os.mkdir(train_cats_dir)\n",
    "\n",
    "train_dogs_dir = os.path.join(train_dir, 'dogs')\n",
    "os.mkdir(train_dogs_dir)\n",
    "\n",
    "validation_cats_dir = os.path.join(validation_dir, 'cats')\n",
    "os.mkdir(validation_cats_dir)\n",
    "\n",
    "validation_dogs_dir = os.path.join(validation_dir, 'dogs')\n",
    "os.mkdir(validation_dogs_dir)\n",
    "\n",
    "test_cats_dir = os.path.join(test_dir, 'cats')\n",
    "os.mkdir(test_cats_dir)\n",
    "\n",
    "test_dogs_dir = os.path.join(test_dir, 'dogs')\n",
    "os.mkdir(test_dogs_dir)\n",
    "\n",
    "fnames = ['cat.{}.jpg'.format(i) for i in range(1000)]\n",
    "for fname in fnames:\n",
    "    src = os.path.join(original_dataset_dir, fname)\n",
    "    dst = os.path.join(train_cats_dir, fname)\n",
    "    shutil.copyfile(src, dst)\n",
    "\n",
    "fnames = ['cat.{}.jpg'.format(i) for i in range (1000, 1500)]\n",
    "for fname in fnames:\n",
    "    src = os.path.join(original_dataset_dir, fname)\n",
    "    dst = os.path.join(validation_cats_dir, fname)\n",
    "    shutil.copyfile(src, dst)\n",
    "\n",
    "fnames = ['cat.{}.jpg'.format(i) for i in range(1500, 2000)]\n",
    "for fname in fnames:\n",
    "    src = os.path.join(original_dataset_dir, fname)\n",
    "    dst = os.path.join(test_cats_dir, fname)\n",
    "    shutil.copyfile(src, dst)\n",
    "\n",
    "fnames = ['dog.{}.jpg'.format(i) for i in range(1000)]\n",
    "for fname in fnames:\n",
    "    src = os.path.join(original_dataset_dir, fname)\n",
    "    dst = os.path.join(train_dogs_dir, fname)\n",
    "    shutil.copyfile(src, dst)\n",
    "    \n",
    "fnames = ['dog.{}.jpg'.format(i) for i in range(1000, 1500)]\n",
    "for fname in fnames:\n",
    "    src = os.path.join(original_dataset_dir, fname)\n",
    "    dst = os.path.join(validation_dogs_dir, fname)\n",
    "    shutil.copyfile(src, dst)\n",
    "\n",
    "fnames = ['dog.{}.jpg'.format(i) for i in range(1500, 2000)]\n",
    "for fname in fnames:\n",
    "    src = os.path.join(original_dataset_dir, fname)\n",
    "    dst = os.path.join(test_dogs_dir, fname)\n",
    "    shutil.copyfile(src, dst)"
   ]
  },
  {
   "cell_type": "code",
   "execution_count": 3,
   "metadata": {},
   "outputs": [
    {
     "name": "stdout",
     "output_type": "stream",
     "text": [
      "total training cat images 1000\n",
      "total validation cat images 500\n",
      "total test cat images 500\n",
      "total training dog images 1000\n",
      "total validaiton dog images 500\n",
      "total test dog images 500\n"
     ]
    }
   ],
   "source": [
    "print('total training cat images', len(os.listdir(train_cats_dir)))\n",
    "print('total validation cat images', len(os.listdir(validation_cats_dir)))\n",
    "print('total test cat images', len(os.listdir(test_cats_dir)))\n",
    "\n",
    "print('total training dog images', len(os.listdir(train_dogs_dir)))\n",
    "print('total validaiton dog images', len(os.listdir(validation_dogs_dir)))\n",
    "print('total test dog images', len(os.listdir(test_dogs_dir)))"
   ]
  },
  {
   "attachments": {},
   "cell_type": "markdown",
   "metadata": {},
   "source": [
    "### 5.2.3 - Building the Network"
   ]
  },
  {
   "cell_type": "code",
   "execution_count": 4,
   "metadata": {},
   "outputs": [
    {
     "name": "stdout",
     "output_type": "stream",
     "text": [
      "Model: \"sequential\"\n",
      "_________________________________________________________________\n",
      " Layer (type)                Output Shape              Param #   \n",
      "=================================================================\n",
      " conv2d (Conv2D)             (None, 148, 148, 32)      896       \n",
      "                                                                 \n",
      " max_pooling2d (MaxPooling2D  (None, 74, 74, 32)       0         \n",
      " )                                                               \n",
      "                                                                 \n",
      " conv2d_1 (Conv2D)           (None, 72, 72, 64)        18496     \n",
      "                                                                 \n",
      " max_pooling2d_1 (MaxPooling  (None, 36, 36, 64)       0         \n",
      " 2D)                                                             \n",
      "                                                                 \n",
      " conv2d_2 (Conv2D)           (None, 34, 34, 128)       73856     \n",
      "                                                                 \n",
      " max_pooling2d_2 (MaxPooling  (None, 17, 17, 128)      0         \n",
      " 2D)                                                             \n",
      "                                                                 \n",
      " conv2d_3 (Conv2D)           (None, 15, 15, 128)       147584    \n",
      "                                                                 \n",
      " max_pooling2d_3 (MaxPooling  (None, 7, 7, 128)        0         \n",
      " 2D)                                                             \n",
      "                                                                 \n",
      " flatten (Flatten)           (None, 6272)              0         \n",
      "                                                                 \n",
      " dense (Dense)               (None, 512)               3211776   \n",
      "                                                                 \n",
      " dense_1 (Dense)             (None, 1)                 513       \n",
      "                                                                 \n",
      "=================================================================\n",
      "Total params: 3,453,121\n",
      "Trainable params: 3,453,121\n",
      "Non-trainable params: 0\n",
      "_________________________________________________________________\n",
      "None\n"
     ]
    }
   ],
   "source": [
    "from keras import layers, models\n",
    "\n",
    "model = models.Sequential()\n",
    "\n",
    "model.add(layers.Conv2D(32, (3, 3), activation='relu', input_shape=(150, 150, 3)))\n",
    "model.add(layers.MaxPooling2D((2,2)))\n",
    "\n",
    "model.add(layers.Conv2D(64, (3, 3), activation='relu'))\n",
    "model.add(layers.MaxPooling2D((2,2)))\n",
    "\n",
    "model.add(layers.Conv2D(128, (3, 3), activation='relu'))\n",
    "model.add(layers.MaxPooling2D((2,2)))\n",
    "\n",
    "model.add(layers.Conv2D(128, (3, 3), activation='relu'))\n",
    "model.add(layers.MaxPooling2D((2,2)))\n",
    "\n",
    "model.add(layers.Flatten())\n",
    "model.add(layers.Dense(512, activation='relu'))\n",
    "model.add(layers.Dense(1, activation='sigmoid'))\n",
    "\n",
    "print(model.summary())"
   ]
  },
  {
   "cell_type": "code",
   "execution_count": 5,
   "metadata": {},
   "outputs": [],
   "source": [
    "from keras import optimizers\n",
    "\n",
    "model.compile(loss='binary_crossentropy',\n",
    "              optimizer=optimizers.RMSprop(learning_rate=1e-4),\n",
    "              metrics=['acc'])"
   ]
  },
  {
   "attachments": {},
   "cell_type": "markdown",
   "metadata": {},
   "source": [
    "### 5.2.4 Data Preprocessing"
   ]
  },
  {
   "cell_type": "code",
   "execution_count": 6,
   "metadata": {},
   "outputs": [
    {
     "name": "stdout",
     "output_type": "stream",
     "text": [
      "Found 2000 images belonging to 2 classes.\n",
      "Found 1000 images belonging to 2 classes.\n"
     ]
    }
   ],
   "source": [
    "from keras.preprocessing.image import ImageDataGenerator\n",
    "\n",
    "train_datagen = ImageDataGenerator(rescale=1./255)\n",
    "test_datagen = ImageDataGenerator(rescale=1./255)\n",
    "\n",
    "train_generator = train_datagen.flow_from_directory(\n",
    "    train_dir,\n",
    "    target_size=(150,150),\n",
    "    batch_size=20,\n",
    "    class_mode='binary'\n",
    ")\n",
    "\n",
    "validation_generator = test_datagen.flow_from_directory(\n",
    "    validation_dir,\n",
    "    target_size=(150,150),\n",
    "    batch_size=20,\n",
    "    class_mode='binary'\n",
    ")"
   ]
  },
  {
   "cell_type": "code",
   "execution_count": 7,
   "metadata": {},
   "outputs": [
    {
     "name": "stdout",
     "output_type": "stream",
     "text": [
      "data batch shape: (20, 150, 150, 3)\n",
      "labels batch shape: (20,)\n"
     ]
    }
   ],
   "source": [
    "for data_batch, labels_batch in train_generator:\n",
    "    print(f'data batch shape: {data_batch.shape}')\n",
    "    print(f'labels batch shape: {labels_batch.shape}')\n",
    "    break"
   ]
  },
  {
   "cell_type": "code",
   "execution_count": 8,
   "metadata": {},
   "outputs": [
    {
     "name": "stdout",
     "output_type": "stream",
     "text": [
      "Epoch 1/30\n",
      "100/100 [==============================] - 49s 480ms/step - loss: 0.6905 - acc: 0.5420 - val_loss: 0.6813 - val_acc: 0.5430\n",
      "Epoch 2/30\n",
      "100/100 [==============================] - 47s 468ms/step - loss: 0.6597 - acc: 0.6070 - val_loss: 0.6396 - val_acc: 0.6370\n",
      "Epoch 3/30\n",
      "100/100 [==============================] - 53s 534ms/step - loss: 0.6279 - acc: 0.6470 - val_loss: 0.6248 - val_acc: 0.6480\n",
      "Epoch 4/30\n",
      "100/100 [==============================] - 56s 558ms/step - loss: 0.5857 - acc: 0.6935 - val_loss: 0.6020 - val_acc: 0.6740\n",
      "Epoch 5/30\n",
      "100/100 [==============================] - 63s 635ms/step - loss: 0.5471 - acc: 0.7230 - val_loss: 0.5902 - val_acc: 0.6750\n",
      "Epoch 6/30\n",
      "100/100 [==============================] - 72s 717ms/step - loss: 0.5153 - acc: 0.7415 - val_loss: 0.5746 - val_acc: 0.6970\n",
      "Epoch 7/30\n",
      "100/100 [==============================] - 118s 1s/step - loss: 0.4897 - acc: 0.7645 - val_loss: 0.5584 - val_acc: 0.7060\n",
      "Epoch 8/30\n",
      "100/100 [==============================] - 98s 974ms/step - loss: 0.4567 - acc: 0.7740 - val_loss: 0.5598 - val_acc: 0.7020\n",
      "Epoch 9/30\n",
      "100/100 [==============================] - 93s 927ms/step - loss: 0.4303 - acc: 0.7925 - val_loss: 0.5581 - val_acc: 0.7130\n",
      "Epoch 10/30\n",
      "100/100 [==============================] - 86s 866ms/step - loss: 0.4107 - acc: 0.8125 - val_loss: 0.5639 - val_acc: 0.7260\n",
      "Epoch 11/30\n",
      "100/100 [==============================] - 77s 771ms/step - loss: 0.3782 - acc: 0.8330 - val_loss: 0.5676 - val_acc: 0.7200\n",
      "Epoch 12/30\n",
      "100/100 [==============================] - 67s 671ms/step - loss: 0.3533 - acc: 0.8475 - val_loss: 0.5876 - val_acc: 0.7210\n",
      "Epoch 13/30\n",
      "100/100 [==============================] - 66s 658ms/step - loss: 0.3350 - acc: 0.8530 - val_loss: 0.5887 - val_acc: 0.7250\n",
      "Epoch 14/30\n",
      "100/100 [==============================] - 68s 679ms/step - loss: 0.3110 - acc: 0.8680 - val_loss: 0.5800 - val_acc: 0.7150\n",
      "Epoch 15/30\n",
      "100/100 [==============================] - 67s 669ms/step - loss: 0.2888 - acc: 0.8825 - val_loss: 0.5700 - val_acc: 0.7250\n",
      "Epoch 16/30\n",
      "100/100 [==============================] - 101s 1s/step - loss: 0.2661 - acc: 0.8965 - val_loss: 0.5884 - val_acc: 0.7240\n",
      "Epoch 17/30\n",
      "100/100 [==============================] - 47s 472ms/step - loss: 0.2466 - acc: 0.8955 - val_loss: 0.6317 - val_acc: 0.7220\n",
      "Epoch 18/30\n",
      "100/100 [==============================] - 51s 515ms/step - loss: 0.2225 - acc: 0.9155 - val_loss: 0.6200 - val_acc: 0.7310\n",
      "Epoch 19/30\n",
      "100/100 [==============================] - 62s 617ms/step - loss: 0.2059 - acc: 0.9200 - val_loss: 0.6492 - val_acc: 0.7300\n",
      "Epoch 20/30\n",
      "100/100 [==============================] - 62s 619ms/step - loss: 0.1751 - acc: 0.9395 - val_loss: 0.6711 - val_acc: 0.7290\n",
      "Epoch 21/30\n",
      "100/100 [==============================] - 78s 777ms/step - loss: 0.1668 - acc: 0.9380 - val_loss: 0.6405 - val_acc: 0.7470\n",
      "Epoch 22/30\n",
      "100/100 [==============================] - 70s 700ms/step - loss: 0.1429 - acc: 0.9555 - val_loss: 0.7508 - val_acc: 0.7210\n",
      "Epoch 23/30\n",
      "100/100 [==============================] - 67s 672ms/step - loss: 0.1279 - acc: 0.9555 - val_loss: 0.7166 - val_acc: 0.7390\n",
      "Epoch 24/30\n",
      "100/100 [==============================] - 68s 679ms/step - loss: 0.1159 - acc: 0.9605 - val_loss: 0.7000 - val_acc: 0.7440\n",
      "Epoch 25/30\n",
      "100/100 [==============================] - 108s 1s/step - loss: 0.0926 - acc: 0.9720 - val_loss: 0.7672 - val_acc: 0.7370\n",
      "Epoch 26/30\n",
      "100/100 [==============================] - 87s 867ms/step - loss: 0.0854 - acc: 0.9705 - val_loss: 0.8024 - val_acc: 0.7230\n",
      "Epoch 27/30\n",
      "100/100 [==============================] - 88s 880ms/step - loss: 0.0764 - acc: 0.9765 - val_loss: 0.8114 - val_acc: 0.7300\n",
      "Epoch 28/30\n",
      "100/100 [==============================] - 75s 747ms/step - loss: 0.0563 - acc: 0.9835 - val_loss: 0.8107 - val_acc: 0.7440\n",
      "Epoch 29/30\n",
      "100/100 [==============================] - 75s 748ms/step - loss: 0.0503 - acc: 0.9870 - val_loss: 0.8665 - val_acc: 0.7430\n",
      "Epoch 30/30\n",
      "100/100 [==============================] - 70s 703ms/step - loss: 0.0413 - acc: 0.9895 - val_loss: 0.9118 - val_acc: 0.7390\n"
     ]
    }
   ],
   "source": [
    "history = model.fit(train_generator,\n",
    "                              steps_per_epoch=100,\n",
    "                              epochs=30,\n",
    "                              validation_data=validation_generator,\n",
    "                              validation_steps=50)\n",
    "\n",
    "model.save('cats_and_dogs_small_1.h5')"
   ]
  },
  {
   "cell_type": "code",
   "execution_count": 9,
   "metadata": {},
   "outputs": [
    {
     "data": {
      "image/png": "[encoded data removed]",
      "text/plain": [
       "<Figure size 640x480 with 1 Axes>"
      ]
     },
     "metadata": {},
     "output_type": "display_data"
    },
    {
     "data": {
      "image/png": "[encoded data removed]",
      "text/plain": [
       "<Figure size 640x480 with 1 Axes>"
      ]
     },
     "metadata": {},
     "output_type": "display_data"
    }
   ],
   "source": [
    "import matplotlib.pyplot as plt\n",
    "\n",
    "acc = history.history['acc']\n",
    "val_acc = history.history['val_acc']\n",
    "loss = history.history['loss']\n",
    "val_loss = history.history['val_loss']\n",
    "\n",
    "epochs = range(1, len(acc) + 1)\n",
    "\n",
    "plt.plot(epochs, acc, 'bo', label='Training acc')\n",
    "plt.plot(epochs, val_acc, 'b', label='Validation acc')\n",
    "plt.title('Training and validation accuracy')\n",
    "plt.legend()\n",
    "\n",
    "plt.figure()\n",
    "\n",
    "plt.plot(epochs, loss, 'bo', label='Training loss')\n",
    "plt.plot(epochs, val_loss, 'b', label='Validation loss')\n",
    "plt.title('Training and validation loss')\n",
    "plt.legend()\n",
    "\n",
    "plt.show()"
   ]
  }
 ],
 "metadata": {
  "kernelspec": {
   "display_name": "ML_Practice",
   "language": "python",
   "name": "python3"
  },
  "language_info": {
   "codemirror_mode": {
    "name": "ipython",
    "version": 3
   },
   "file_extension": ".py",
   "mimetype": "text/x-python",
   "name": "python",
   "nbconvert_exporter": "python",
   "pygments_lexer": "ipython3",
   "version": "3.11.3"
  },
  "orig_nbformat": 4
 },
 "nbformat": 4,
 "nbformat_minor": 2
}
