{
 "cells": [
  {
   "attachments": {},
   "cell_type": "markdown",
   "metadata": {},
   "source": [
    "# Imports"
   ]
  },
  {
   "attachments": {},
   "cell_type": "markdown",
   "metadata": {},
   "source": [
    "## Python Standard Library"
   ]
  },
  {
   "cell_type": "code",
   "execution_count": null,
   "metadata": {},
   "outputs": [],
   "source": [
    "import math\n",
    "import random"
   ]
  },
  {
   "attachments": {},
   "cell_type": "markdown",
   "metadata": {},
   "source": [
    "## Extra packages"
   ]
  },
  {
   "cell_type": "code",
   "execution_count": null,
   "metadata": {},
   "outputs": [],
   "source": [
    "import matplotlib.pyplot as plt\n",
    "import numpy as np"
   ]
  },
  {
   "attachments": {},
   "cell_type": "markdown",
   "metadata": {},
   "source": [
    "# Utility Functions"
   ]
  },
  {
   "cell_type": "code",
   "execution_count": null,
   "metadata": {},
   "outputs": [],
   "source": [
    "class Utility:\n",
    "    def Five():\n",
    "        return 5\n",
    "    \n",
    "    def sigmoid(x) -> float:\n",
    "        return 1. / (1. + math.pow(math.e, (-1 * x)))\n",
    "    \n",
    "    def sigmoid_activate(x, threshold=0.5) -> bool:\n",
    "        return Utility.sigmoid(x) >= threshold\n",
    "    \n",
    "    def relu(x) -> float:\n",
    "        return (x + abs(x)) / 2\n",
    "    \n",
    "    def relu_activate(x) -> bool:\n",
    "        return Utility.relu(x) > 0\n",
    "\n",
    "class Node:\n",
    "    def __init__(self, inputs: int, bias=1):\n",
    "        self.bias = bias\n",
    "        self.weights = []\n",
    "        for x in range(1 + inputs):\n",
    "            self.weights.append(random.random())\n",
    "\n",
    "    def activate(self, inputs: list, activation_function=Utility.sigmoid_activate):\n",
    "        length = len(inputs)\n",
    "        if length != (len(self.weights) - 1):\n",
    "            raise ValueError(\"input size doesn't match weights\")\n",
    "        \n",
    "        sum = self.bias * self.weights[0]\n",
    "        for v in range(length):\n",
    "            sum = sum + (self.weights[v+1] * inputs[v])\n",
    "\n",
    "        return activation_function(sum)\n",
    "\n",
    "class Layer:\n",
    "    pass\n",
    "\n",
    "class Model:\n",
    "    pass"
   ]
  },
  {
   "attachments": {},
   "cell_type": "markdown",
   "metadata": {},
   "source": [
    "## Test Values"
   ]
  },
  {
   "cell_type": "code",
   "execution_count": null,
   "metadata": {},
   "outputs": [],
   "source": [
    "# METAPARAMETRS\n",
    "ITERATIONS = 100\n",
    "CONNECTIONS = 16\n",
    "THRESHOLD = 0.5"
   ]
  },
  {
   "cell_type": "code",
   "execution_count": null,
   "metadata": {},
   "outputs": [],
   "source": [
    "def generate_iteration(num_inputs, max_iterations):\n",
    "    num = 0\n",
    "\n",
    "    while(num < max_iterations):\n",
    "        inputs = []\n",
    "        node = Node(num_inputs)\n",
    "        for input in range(num_inputs):\n",
    "            inputs.append(random.randrange(-10, 10))\n",
    "\n",
    "        yield (node.activate(inputs, Utility.sigmoid), node.activate(inputs, Utility.sigmoid_activate))\n",
    "        num += 1\n",
    "\n",
    "iterations = list(generate_iteration(CONNECTIONS, 1000))"
   ]
  },
  {
   "attachments": {},
   "cell_type": "markdown",
   "metadata": {},
   "source": [
    "# Plot Test"
   ]
  },
  {
   "cell_type": "code",
   "execution_count": null,
   "metadata": {},
   "outputs": [],
   "source": [
    "# plot the sigmoid and relu functions from -10 to 10\n",
    "x_vals = []\n",
    "y_vals = []\n",
    "y_vals2 = []\n",
    "for x in range(-5, 5, 1):\n",
    "    x_vals.append(x)\n",
    "    y_vals.append(Utility.sigmoid(x))\n",
    "    y_vals2.append(Utility.relu(x))\n",
    "\n",
    "fig, (ax1, ax2) = plt.subplots(1, 2, figsize=(10, 5))\n",
    "ax1.plot(x_vals, y_vals)\n",
    "ax2.plot(x_vals, y_vals2)\n",
    "plt.show()"
   ]
  }
 ],
 "metadata": {
  "kernelspec": {
   "display_name": "ML_Practice",
   "language": "python",
   "name": "python3"
  },
  "language_info": {
   "codemirror_mode": {
    "name": "ipython",
    "version": 3
   },
   "file_extension": ".py",
   "mimetype": "text/x-python",
   "name": "python",
   "nbconvert_exporter": "python",
   "pygments_lexer": "ipython3",
   "version": "3.11.3"
  },
  "orig_nbformat": 4
 },
 "nbformat": 4,
 "nbformat_minor": 2
}
